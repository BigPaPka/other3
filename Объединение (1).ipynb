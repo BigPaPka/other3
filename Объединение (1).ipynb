{
  "cells": [
    {
      "cell_type": "code",
      "execution_count": 1,
      "id": "80e45f77",
      "metadata": {
        "id": "80e45f77"
      },
      "outputs": [],
      "source": [
        "import pandas as pd\n",
        "import numpy as np"
      ]
    },
    {
      "cell_type": "markdown",
      "id": "7a671655",
      "metadata": {
        "id": "7a671655"
      },
      "source": [
        "### Загрузка  данных"
      ]
    },
    {
      "cell_type": "code",
      "execution_count": null,
      "id": "f808cffd",
      "metadata": {
        "id": "f808cffd"
      },
      "outputs": [],
      "source": [
        "ds1 = pd.read_csv('ds1')\n",
        "ds2 = pd.read_excel('domclick_mos.xlsx')\n",
        "ds3 = pd.read_excel('domclick_oblast.xlsx')\n",
        "ds4 = pd.read_excel('price-cian.xlsx')\n",
        "ds5 = pd.read_excel('secondary.xlsx')"
      ]
    },
    {
      "cell_type": "markdown",
      "id": "c7f252ee",
      "metadata": {
        "id": "c7f252ee"
      },
      "source": [
        "# Просмотр обработанных данных"
      ]
    },
    {
      "cell_type": "markdown",
      "source": [
        "# ds1"
      ],
      "metadata": {
        "id": "U02HguXZeRgN"
      },
      "id": "U02HguXZeRgN"
    },
    {
      "cell_type": "code",
      "execution_count": 15,
      "id": "33beb8dc",
      "metadata": {
        "id": "33beb8dc"
      },
      "outputs": [],
      "source": [
        "columns = ['Цена', 'Станция метро', 'Минут до метро', 'Адрес', 'Количество комнат',\n",
        "           'Площадь', 'Жилая площадь', 'Кухня площадь', 'Этаж', 'Тип продажи',\n",
        "           'Дом', 'Всего этажей', 'Лифт', 'Ремонт', 'Парковка',\n",
        "           'Окна', 'Санузел', 'Высота потолков, м', 'Ссылка на объявление']\n",
        "\n"
      ]
    },
    {
      "cell_type": "code",
      "execution_count": 16,
      "id": "ad81447c",
      "metadata": {
        "colab": {
          "base_uri": "https://localhost:8080/"
        },
        "id": "ad81447c",
        "outputId": "45ad0da1-dc9d-4def-a26e-283f9cada292"
      },
      "outputs": [
        {
          "output_type": "stream",
          "name": "stdout",
          "text": [
            "(4556, 19)\n"
          ]
        }
      ],
      "source": [
        "print(ds1.shape)\n"
      ]
    },
    {
      "cell_type": "markdown",
      "id": "94ce1c43",
      "metadata": {
        "id": "94ce1c43"
      },
      "source": [
        "### d2"
      ]
    },
    {
      "cell_type": "code",
      "execution_count": 18,
      "id": "20583e48",
      "metadata": {
        "colab": {
          "base_uri": "https://localhost:8080/",
          "height": 387
        },
        "id": "20583e48",
        "outputId": "1e539e68-3b4d-4b19-af97-bff0b7d2c721"
      },
      "outputs": [
        {
          "output_type": "stream",
          "name": "stdout",
          "text": [
            "(9897, 20)\n"
          ]
        },
        {
          "output_type": "execute_result",
          "data": {
            "text/plain": [
              "       Цена                  Метро Минут до метро  \\\n",
              "0  11000000             Некрасовка             17   \n",
              "1   4650000                    NaN            NaN   \n",
              "2  10800000  Прокшино, Филатов Луг          13,45   \n",
              "\n",
              "                                               Адрес  Комнат  Площадь  Жилая  \\\n",
              "0                         Москва улица Лавриненко 3А       1     37.5   19.0   \n",
              "1         Москва посёлок Рогово Юбилейная улица 12к2       1     38.0   18.0   \n",
              "2  Москва поселение Сосенское Прокшинский проспект 9       1     33.8   15.2   \n",
              "\n",
              "   Кухня  Этаж         Тип сделки  Год постройки        Материал стен  \\\n",
              "0    8.0     3  Свободная продажа         2018.0                 Иные   \n",
              "1    9.0     5  Свободная продажа         2019.0            Кирпичный   \n",
              "2   12.0    15  Свободная продажа         2022.0  Монолитно-кирпичный   \n",
              "\n",
              "  Серия дома  Количество этажей  Лифт  Тип перекрытий         Ремонт  \\\n",
              "0      П-44Т               17.0  есть  Железобетонный            NaN   \n",
              "1        NaN                5.0   NaN  Железобетонный  косметический   \n",
              "2        NaN               18.0   NaN  Железобетонный    Отсутствует   \n",
              "\n",
              "   Количество информации в объявлении  Количество указанной инфраструктуры  \\\n",
              "0                                  14                                    2   \n",
              "1                                  14                                    2   \n",
              "2                                  13                                    1   \n",
              "\n",
              "                                            Ссылка  \n",
              "0  https://domclick.ru/card/sale__flat__1866393858  \n",
              "1  https://domclick.ru/card/sale__flat__1691896126  \n",
              "2  https://domclick.ru/card/sale__flat__1691935139  "
            ],
            "text/html": [
              "\n",
              "  <div id=\"df-56cb36f3-5356-4cd5-811f-60036090572d\" class=\"colab-df-container\">\n",
              "    <div>\n",
              "<style scoped>\n",
              "    .dataframe tbody tr th:only-of-type {\n",
              "        vertical-align: middle;\n",
              "    }\n",
              "\n",
              "    .dataframe tbody tr th {\n",
              "        vertical-align: top;\n",
              "    }\n",
              "\n",
              "    .dataframe thead th {\n",
              "        text-align: right;\n",
              "    }\n",
              "</style>\n",
              "<table border=\"1\" class=\"dataframe\">\n",
              "  <thead>\n",
              "    <tr style=\"text-align: right;\">\n",
              "      <th></th>\n",
              "      <th>Цена</th>\n",
              "      <th>Метро</th>\n",
              "      <th>Минут до метро</th>\n",
              "      <th>Адрес</th>\n",
              "      <th>Комнат</th>\n",
              "      <th>Площадь</th>\n",
              "      <th>Жилая</th>\n",
              "      <th>Кухня</th>\n",
              "      <th>Этаж</th>\n",
              "      <th>Тип сделки</th>\n",
              "      <th>Год постройки</th>\n",
              "      <th>Материал стен</th>\n",
              "      <th>Серия дома</th>\n",
              "      <th>Количество этажей</th>\n",
              "      <th>Лифт</th>\n",
              "      <th>Тип перекрытий</th>\n",
              "      <th>Ремонт</th>\n",
              "      <th>Количество информации в объявлении</th>\n",
              "      <th>Количество указанной инфраструктуры</th>\n",
              "      <th>Ссылка</th>\n",
              "    </tr>\n",
              "  </thead>\n",
              "  <tbody>\n",
              "    <tr>\n",
              "      <th>0</th>\n",
              "      <td>11000000</td>\n",
              "      <td>Некрасовка</td>\n",
              "      <td>17</td>\n",
              "      <td>Москва улица Лавриненко 3А</td>\n",
              "      <td>1</td>\n",
              "      <td>37.5</td>\n",
              "      <td>19.0</td>\n",
              "      <td>8.0</td>\n",
              "      <td>3</td>\n",
              "      <td>Свободная продажа</td>\n",
              "      <td>2018.0</td>\n",
              "      <td>Иные</td>\n",
              "      <td>П-44Т</td>\n",
              "      <td>17.0</td>\n",
              "      <td>есть</td>\n",
              "      <td>Железобетонный</td>\n",
              "      <td>NaN</td>\n",
              "      <td>14</td>\n",
              "      <td>2</td>\n",
              "      <td>https://domclick.ru/card/sale__flat__1866393858</td>\n",
              "    </tr>\n",
              "    <tr>\n",
              "      <th>1</th>\n",
              "      <td>4650000</td>\n",
              "      <td>NaN</td>\n",
              "      <td>NaN</td>\n",
              "      <td>Москва посёлок Рогово Юбилейная улица 12к2</td>\n",
              "      <td>1</td>\n",
              "      <td>38.0</td>\n",
              "      <td>18.0</td>\n",
              "      <td>9.0</td>\n",
              "      <td>5</td>\n",
              "      <td>Свободная продажа</td>\n",
              "      <td>2019.0</td>\n",
              "      <td>Кирпичный</td>\n",
              "      <td>NaN</td>\n",
              "      <td>5.0</td>\n",
              "      <td>NaN</td>\n",
              "      <td>Железобетонный</td>\n",
              "      <td>косметический</td>\n",
              "      <td>14</td>\n",
              "      <td>2</td>\n",
              "      <td>https://domclick.ru/card/sale__flat__1691896126</td>\n",
              "    </tr>\n",
              "    <tr>\n",
              "      <th>2</th>\n",
              "      <td>10800000</td>\n",
              "      <td>Прокшино, Филатов Луг</td>\n",
              "      <td>13,45</td>\n",
              "      <td>Москва поселение Сосенское Прокшинский проспект 9</td>\n",
              "      <td>1</td>\n",
              "      <td>33.8</td>\n",
              "      <td>15.2</td>\n",
              "      <td>12.0</td>\n",
              "      <td>15</td>\n",
              "      <td>Свободная продажа</td>\n",
              "      <td>2022.0</td>\n",
              "      <td>Монолитно-кирпичный</td>\n",
              "      <td>NaN</td>\n",
              "      <td>18.0</td>\n",
              "      <td>NaN</td>\n",
              "      <td>Железобетонный</td>\n",
              "      <td>Отсутствует</td>\n",
              "      <td>13</td>\n",
              "      <td>1</td>\n",
              "      <td>https://domclick.ru/card/sale__flat__1691935139</td>\n",
              "    </tr>\n",
              "  </tbody>\n",
              "</table>\n",
              "</div>\n",
              "    <div class=\"colab-df-buttons\">\n",
              "\n",
              "  <div class=\"colab-df-container\">\n",
              "    <button class=\"colab-df-convert\" onclick=\"convertToInteractive('df-56cb36f3-5356-4cd5-811f-60036090572d')\"\n",
              "            title=\"Convert this dataframe to an interactive table.\"\n",
              "            style=\"display:none;\">\n",
              "\n",
              "  <svg xmlns=\"http://www.w3.org/2000/svg\" height=\"24px\" viewBox=\"0 -960 960 960\">\n",
              "    <path d=\"M120-120v-720h720v720H120Zm60-500h600v-160H180v160Zm220 220h160v-160H400v160Zm0 220h160v-160H400v160ZM180-400h160v-160H180v160Zm440 0h160v-160H620v160ZM180-180h160v-160H180v160Zm440 0h160v-160H620v160Z\"/>\n",
              "  </svg>\n",
              "    </button>\n",
              "\n",
              "  <style>\n",
              "    .colab-df-container {\n",
              "      display:flex;\n",
              "      gap: 12px;\n",
              "    }\n",
              "\n",
              "    .colab-df-convert {\n",
              "      background-color: #E8F0FE;\n",
              "      border: none;\n",
              "      border-radius: 50%;\n",
              "      cursor: pointer;\n",
              "      display: none;\n",
              "      fill: #1967D2;\n",
              "      height: 32px;\n",
              "      padding: 0 0 0 0;\n",
              "      width: 32px;\n",
              "    }\n",
              "\n",
              "    .colab-df-convert:hover {\n",
              "      background-color: #E2EBFA;\n",
              "      box-shadow: 0px 1px 2px rgba(60, 64, 67, 0.3), 0px 1px 3px 1px rgba(60, 64, 67, 0.15);\n",
              "      fill: #174EA6;\n",
              "    }\n",
              "\n",
              "    .colab-df-buttons div {\n",
              "      margin-bottom: 4px;\n",
              "    }\n",
              "\n",
              "    [theme=dark] .colab-df-convert {\n",
              "      background-color: #3B4455;\n",
              "      fill: #D2E3FC;\n",
              "    }\n",
              "\n",
              "    [theme=dark] .colab-df-convert:hover {\n",
              "      background-color: #434B5C;\n",
              "      box-shadow: 0px 1px 3px 1px rgba(0, 0, 0, 0.15);\n",
              "      filter: drop-shadow(0px 1px 2px rgba(0, 0, 0, 0.3));\n",
              "      fill: #FFFFFF;\n",
              "    }\n",
              "  </style>\n",
              "\n",
              "    <script>\n",
              "      const buttonEl =\n",
              "        document.querySelector('#df-56cb36f3-5356-4cd5-811f-60036090572d button.colab-df-convert');\n",
              "      buttonEl.style.display =\n",
              "        google.colab.kernel.accessAllowed ? 'block' : 'none';\n",
              "\n",
              "      async function convertToInteractive(key) {\n",
              "        const element = document.querySelector('#df-56cb36f3-5356-4cd5-811f-60036090572d');\n",
              "        const dataTable =\n",
              "          await google.colab.kernel.invokeFunction('convertToInteractive',\n",
              "                                                    [key], {});\n",
              "        if (!dataTable) return;\n",
              "\n",
              "        const docLinkHtml = 'Like what you see? Visit the ' +\n",
              "          '<a target=\"_blank\" href=https://colab.research.google.com/notebooks/data_table.ipynb>data table notebook</a>'\n",
              "          + ' to learn more about interactive tables.';\n",
              "        element.innerHTML = '';\n",
              "        dataTable['output_type'] = 'display_data';\n",
              "        await google.colab.output.renderOutput(dataTable, element);\n",
              "        const docLink = document.createElement('div');\n",
              "        docLink.innerHTML = docLinkHtml;\n",
              "        element.appendChild(docLink);\n",
              "      }\n",
              "    </script>\n",
              "  </div>\n",
              "\n",
              "\n",
              "<div id=\"df-abd679d0-d707-41be-9e27-0d7985f07ea4\">\n",
              "  <button class=\"colab-df-quickchart\" onclick=\"quickchart('df-abd679d0-d707-41be-9e27-0d7985f07ea4')\"\n",
              "            title=\"Suggest charts\"\n",
              "            style=\"display:none;\">\n",
              "\n",
              "<svg xmlns=\"http://www.w3.org/2000/svg\" height=\"24px\"viewBox=\"0 0 24 24\"\n",
              "     width=\"24px\">\n",
              "    <g>\n",
              "        <path d=\"M19 3H5c-1.1 0-2 .9-2 2v14c0 1.1.9 2 2 2h14c1.1 0 2-.9 2-2V5c0-1.1-.9-2-2-2zM9 17H7v-7h2v7zm4 0h-2V7h2v10zm4 0h-2v-4h2v4z\"/>\n",
              "    </g>\n",
              "</svg>\n",
              "  </button>\n",
              "\n",
              "<style>\n",
              "  .colab-df-quickchart {\n",
              "      --bg-color: #E8F0FE;\n",
              "      --fill-color: #1967D2;\n",
              "      --hover-bg-color: #E2EBFA;\n",
              "      --hover-fill-color: #174EA6;\n",
              "      --disabled-fill-color: #AAA;\n",
              "      --disabled-bg-color: #DDD;\n",
              "  }\n",
              "\n",
              "  [theme=dark] .colab-df-quickchart {\n",
              "      --bg-color: #3B4455;\n",
              "      --fill-color: #D2E3FC;\n",
              "      --hover-bg-color: #434B5C;\n",
              "      --hover-fill-color: #FFFFFF;\n",
              "      --disabled-bg-color: #3B4455;\n",
              "      --disabled-fill-color: #666;\n",
              "  }\n",
              "\n",
              "  .colab-df-quickchart {\n",
              "    background-color: var(--bg-color);\n",
              "    border: none;\n",
              "    border-radius: 50%;\n",
              "    cursor: pointer;\n",
              "    display: none;\n",
              "    fill: var(--fill-color);\n",
              "    height: 32px;\n",
              "    padding: 0;\n",
              "    width: 32px;\n",
              "  }\n",
              "\n",
              "  .colab-df-quickchart:hover {\n",
              "    background-color: var(--hover-bg-color);\n",
              "    box-shadow: 0 1px 2px rgba(60, 64, 67, 0.3), 0 1px 3px 1px rgba(60, 64, 67, 0.15);\n",
              "    fill: var(--button-hover-fill-color);\n",
              "  }\n",
              "\n",
              "  .colab-df-quickchart-complete:disabled,\n",
              "  .colab-df-quickchart-complete:disabled:hover {\n",
              "    background-color: var(--disabled-bg-color);\n",
              "    fill: var(--disabled-fill-color);\n",
              "    box-shadow: none;\n",
              "  }\n",
              "\n",
              "  .colab-df-spinner {\n",
              "    border: 2px solid var(--fill-color);\n",
              "    border-color: transparent;\n",
              "    border-bottom-color: var(--fill-color);\n",
              "    animation:\n",
              "      spin 1s steps(1) infinite;\n",
              "  }\n",
              "\n",
              "  @keyframes spin {\n",
              "    0% {\n",
              "      border-color: transparent;\n",
              "      border-bottom-color: var(--fill-color);\n",
              "      border-left-color: var(--fill-color);\n",
              "    }\n",
              "    20% {\n",
              "      border-color: transparent;\n",
              "      border-left-color: var(--fill-color);\n",
              "      border-top-color: var(--fill-color);\n",
              "    }\n",
              "    30% {\n",
              "      border-color: transparent;\n",
              "      border-left-color: var(--fill-color);\n",
              "      border-top-color: var(--fill-color);\n",
              "      border-right-color: var(--fill-color);\n",
              "    }\n",
              "    40% {\n",
              "      border-color: transparent;\n",
              "      border-right-color: var(--fill-color);\n",
              "      border-top-color: var(--fill-color);\n",
              "    }\n",
              "    60% {\n",
              "      border-color: transparent;\n",
              "      border-right-color: var(--fill-color);\n",
              "    }\n",
              "    80% {\n",
              "      border-color: transparent;\n",
              "      border-right-color: var(--fill-color);\n",
              "      border-bottom-color: var(--fill-color);\n",
              "    }\n",
              "    90% {\n",
              "      border-color: transparent;\n",
              "      border-bottom-color: var(--fill-color);\n",
              "    }\n",
              "  }\n",
              "</style>\n",
              "\n",
              "  <script>\n",
              "    async function quickchart(key) {\n",
              "      const quickchartButtonEl =\n",
              "        document.querySelector('#' + key + ' button');\n",
              "      quickchartButtonEl.disabled = true;  // To prevent multiple clicks.\n",
              "      quickchartButtonEl.classList.add('colab-df-spinner');\n",
              "      try {\n",
              "        const charts = await google.colab.kernel.invokeFunction(\n",
              "            'suggestCharts', [key], {});\n",
              "      } catch (error) {\n",
              "        console.error('Error during call to suggestCharts:', error);\n",
              "      }\n",
              "      quickchartButtonEl.classList.remove('colab-df-spinner');\n",
              "      quickchartButtonEl.classList.add('colab-df-quickchart-complete');\n",
              "    }\n",
              "    (() => {\n",
              "      let quickchartButtonEl =\n",
              "        document.querySelector('#df-abd679d0-d707-41be-9e27-0d7985f07ea4 button');\n",
              "      quickchartButtonEl.style.display =\n",
              "        google.colab.kernel.accessAllowed ? 'block' : 'none';\n",
              "    })();\n",
              "  </script>\n",
              "</div>\n",
              "    </div>\n",
              "  </div>\n"
            ],
            "application/vnd.google.colaboratory.intrinsic+json": {
              "type": "dataframe",
              "variable_name": "ds2",
              "summary": "{\n  \"name\": \"ds2\",\n  \"rows\": 9897,\n  \"fields\": [\n    {\n      \"column\": \"\\u0426\\u0435\\u043d\\u0430\",\n      \"properties\": {\n        \"dtype\": \"number\",\n        \"std\": 86604620,\n        \"min\": 1150000,\n        \"max\": 1732170825,\n        \"num_unique_values\": 2361,\n        \"samples\": [\n          49903000,\n          6347750,\n          87689727\n        ],\n        \"semantic_type\": \"\",\n        \"description\": \"\"\n      }\n    },\n    {\n      \"column\": \"\\u041c\\u0435\\u0442\\u0440\\u043e\",\n      \"properties\": {\n        \"dtype\": \"category\",\n        \"num_unique_values\": 1455,\n        \"samples\": [\n          \"\\u0428\\u0435\\u043b\\u0435\\u043f\\u0438\\u0445\\u0430, \\u0425\\u043e\\u0440\\u043e\\u0448\\u0451\\u0432\\u0441\\u043a\\u0430\\u044f, \\u0441\\u0442\\u0430\\u043d\\u0446\\u0438\\u044f \\u0428\\u0435\\u043b\\u0435\\u043f\\u0438\\u0445\\u0430\",\n          \"\\u041d\\u0430\\u0433\\u0430\\u0442\\u0438\\u043d\\u0441\\u043a\\u0430\\u044f, \\u041d\\u0430\\u0433\\u043e\\u0440\\u043d\\u0430\\u044f, \\u041d\\u0430\\u0445\\u0438\\u043c\\u043e\\u0432\\u0441\\u043a\\u0438\\u0439 \\u043f\\u0440\\u043e\\u0441\\u043f\\u0435\\u043a\\u0442\",\n          \"\\u041d\\u0430\\u0433\\u043e\\u0440\\u043d\\u0430\\u044f, \\u041a\\u0430\\u0448\\u0438\\u0440\\u0441\\u043a\\u0430\\u044f, \\u041d\\u0430\\u0433\\u0430\\u0442\\u0438\\u043d\\u0441\\u043a\\u0430\\u044f\"\n        ],\n        \"semantic_type\": \"\",\n        \"description\": \"\"\n      }\n    },\n    {\n      \"column\": \"\\u041c\\u0438\\u043d\\u0443\\u0442 \\u0434\\u043e \\u043c\\u0435\\u0442\\u0440\\u043e\",\n      \"properties\": {\n        \"dtype\": \"category\",\n        \"num_unique_values\": 2572,\n        \"samples\": [\n          \"7,9,13\",\n          \"4,12,12\",\n          \"15,27,30\"\n        ],\n        \"semantic_type\": \"\",\n        \"description\": \"\"\n      }\n    },\n    {\n      \"column\": \"\\u0410\\u0434\\u0440\\u0435\\u0441\",\n      \"properties\": {\n        \"dtype\": \"string\",\n        \"num_unique_values\": 5523,\n        \"samples\": [\n          \"\\u041c\\u043e\\u0441\\u043a\\u0432\\u0430 \\u0411\\u043e\\u0440\\u043e\\u0432\\u0441\\u043a\\u043e\\u0435 \\u0448\\u043e\\u0441\\u0441\\u0435 2\\u043a5\",\n          \"\\u041c\\u043e\\u0441\\u043a\\u0432\\u0430 \\u041c\\u0438\\u0447\\u0443\\u0440\\u0438\\u043d\\u0441\\u043a\\u0438\\u0439 \\u043f\\u0440\\u043e\\u0441\\u043f\\u0435\\u043a\\u0442 16\",\n          \"\\u041c\\u043e\\u0441\\u043a\\u0432\\u0430 \\u041a\\u043e\\u0441\\u0438\\u043d\\u0441\\u043a\\u0430\\u044f \\u0443\\u043b\\u0438\\u0446\\u0430 16\\u043a4\"\n        ],\n        \"semantic_type\": \"\",\n        \"description\": \"\"\n      }\n    },\n    {\n      \"column\": \"\\u041a\\u043e\\u043c\\u043d\\u0430\\u0442\",\n      \"properties\": {\n        \"dtype\": \"number\",\n        \"std\": 1,\n        \"min\": 0,\n        \"max\": 12,\n        \"num_unique_values\": 12,\n        \"samples\": [\n          10,\n          12,\n          1\n        ],\n        \"semantic_type\": \"\",\n        \"description\": \"\"\n      }\n    },\n    {\n      \"column\": \"\\u041f\\u043b\\u043e\\u0449\\u0430\\u0434\\u044c\",\n      \"properties\": {\n        \"dtype\": \"number\",\n        \"std\": 70.66481507226139,\n        \"min\": 6.0,\n        \"max\": 861.5,\n        \"num_unique_values\": 1656,\n        \"samples\": [\n          16.5,\n          77.0,\n          61.1\n        ],\n        \"semantic_type\": \"\",\n        \"description\": \"\"\n      }\n    },\n    {\n      \"column\": \"\\u0416\\u0438\\u043b\\u0430\\u044f\",\n      \"properties\": {\n        \"dtype\": \"number\",\n        \"std\": 38.382719233992304,\n        \"min\": 2.0,\n        \"max\": 510.0,\n        \"num_unique_values\": 900,\n        \"samples\": [\n          14.0,\n          55.3,\n          32.7\n        ],\n        \"semantic_type\": \"\",\n        \"description\": \"\"\n      }\n    },\n    {\n      \"column\": \"\\u041a\\u0443\\u0445\\u043d\\u044f\",\n      \"properties\": {\n        \"dtype\": \"number\",\n        \"std\": 8.188201698929463,\n        \"min\": 1.0,\n        \"max\": 122.0,\n        \"num_unique_values\": 338,\n        \"samples\": [\n          19.3,\n          3.1,\n          21.5\n        ],\n        \"semantic_type\": \"\",\n        \"description\": \"\"\n      }\n    },\n    {\n      \"column\": \"\\u042d\\u0442\\u0430\\u0436\",\n      \"properties\": {\n        \"dtype\": \"number\",\n        \"std\": 7,\n        \"min\": 1,\n        \"max\": 82,\n        \"num_unique_values\": 57,\n        \"samples\": [\n          3,\n          13,\n          29\n        ],\n        \"semantic_type\": \"\",\n        \"description\": \"\"\n      }\n    },\n    {\n      \"column\": \"\\u0422\\u0438\\u043f \\u0441\\u0434\\u0435\\u043b\\u043a\\u0438\",\n      \"properties\": {\n        \"dtype\": \"category\",\n        \"num_unique_values\": 3,\n        \"samples\": [\n          \"\\u0421\\u0432\\u043e\\u0431\\u043e\\u0434\\u043d\\u0430\\u044f \\u043f\\u0440\\u043e\\u0434\\u0430\\u0436\\u0430\",\n          \"\\u0410\\u043b\\u044c\\u0442\\u0435\\u0440\\u043d\\u0430\\u0442\\u0438\\u0432\\u0430\",\n          \"\\u041f\\u0435\\u0440\\u0432\\u0438\\u0447\\u043d\\u0430\\u044f \\u043f\\u0440\\u043e\\u0434\\u0430\\u0436\\u0430\"\n        ],\n        \"semantic_type\": \"\",\n        \"description\": \"\"\n      }\n    },\n    {\n      \"column\": \"\\u0413\\u043e\\u0434 \\u043f\\u043e\\u0441\\u0442\\u0440\\u043e\\u0439\\u043a\\u0438\",\n      \"properties\": {\n        \"dtype\": \"number\",\n        \"std\": 31.591998231810635,\n        \"min\": 1600.0,\n        \"max\": 2027.0,\n        \"num_unique_values\": 145,\n        \"samples\": [\n          2005.0,\n          1898.0,\n          2007.0\n        ],\n        \"semantic_type\": \"\",\n        \"description\": \"\"\n      }\n    },\n    {\n      \"column\": \"\\u041c\\u0430\\u0442\\u0435\\u0440\\u0438\\u0430\\u043b \\u0441\\u0442\\u0435\\u043d\",\n      \"properties\": {\n        \"dtype\": \"category\",\n        \"num_unique_values\": 12,\n        \"samples\": [\n          \"\\u0414\\u0435\\u0440\\u0435\\u0432\\u044f\\u043d\\u043d\\u044b\\u0439\",\n          \"\\u0416\\u0435\\u043b\\u0435\\u0437\\u043e\\u0431\\u0435\\u0442\\u043e\\u043d\\u043d\\u0430\\u044f \\u043f\\u0430\\u043d\\u0435\\u043b\\u044c\",\n          \"\\u0418\\u043d\\u044b\\u0435\"\n        ],\n        \"semantic_type\": \"\",\n        \"description\": \"\"\n      }\n    },\n    {\n      \"column\": \"\\u0421\\u0435\\u0440\\u0438\\u044f \\u0434\\u043e\\u043c\\u0430\",\n      \"properties\": {\n        \"dtype\": \"category\",\n        \"num_unique_values\": 157,\n        \"samples\": [\n          \"l-515\",\n          \"\\u0418-700\\u0410\",\n          \"1 \\u0433\\u0440\\u0443\\u043f\\u043f\\u0430 \\u043a\\u0430\\u043f\\u0438\\u0442\\u0430\\u043b\\u044c\\u043d\\u043e\\u0441\\u0442\\u0438\"\n        ],\n        \"semantic_type\": \"\",\n        \"description\": \"\"\n      }\n    },\n    {\n      \"column\": \"\\u041a\\u043e\\u043b\\u0438\\u0447\\u0435\\u0441\\u0442\\u0432\\u043e \\u044d\\u0442\\u0430\\u0436\\u0435\\u0439\",\n      \"properties\": {\n        \"dtype\": \"number\",\n        \"std\": 10.353301964107208,\n        \"min\": 1.0,\n        \"max\": 97.0,\n        \"num_unique_values\": 68,\n        \"samples\": [\n          45.0,\n          42.0,\n          16.0\n        ],\n        \"semantic_type\": \"\",\n        \"description\": \"\"\n      }\n    },\n    {\n      \"column\": \"\\u041b\\u0438\\u0444\\u0442\",\n      \"properties\": {\n        \"dtype\": \"category\",\n        \"num_unique_values\": 1,\n        \"samples\": [\n          \"\\u0435\\u0441\\u0442\\u044c\"\n        ],\n        \"semantic_type\": \"\",\n        \"description\": \"\"\n      }\n    },\n    {\n      \"column\": \"\\u0422\\u0438\\u043f \\u043f\\u0435\\u0440\\u0435\\u043a\\u0440\\u044b\\u0442\\u0438\\u0439\",\n      \"properties\": {\n        \"dtype\": \"category\",\n        \"num_unique_values\": 6,\n        \"samples\": [\n          \"\\u0416\\u0435\\u043b\\u0435\\u0437\\u043e\\u0431\\u0435\\u0442\\u043e\\u043d\\u043d\\u044b\\u0439\"\n        ],\n        \"semantic_type\": \"\",\n        \"description\": \"\"\n      }\n    },\n    {\n      \"column\": \"\\u0420\\u0435\\u043c\\u043e\\u043d\\u0442\",\n      \"properties\": {\n        \"dtype\": \"category\",\n        \"num_unique_values\": 28,\n        \"samples\": [\n          \"\\u0425\\u043e\\u0440\\u043e\\u0448\\u0438\\u0439\"\n        ],\n        \"semantic_type\": \"\",\n        \"description\": \"\"\n      }\n    },\n    {\n      \"column\": \"\\u041a\\u043e\\u043b\\u0438\\u0447\\u0435\\u0441\\u0442\\u0432\\u043e \\u0438\\u043d\\u0444\\u043e\\u0440\\u043c\\u0430\\u0446\\u0438\\u0438 \\u0432 \\u043e\\u0431\\u044a\\u044f\\u0432\\u043b\\u0435\\u043d\\u0438\\u0438\",\n      \"properties\": {\n        \"dtype\": \"number\",\n        \"std\": 1,\n        \"min\": 5,\n        \"max\": 14,\n        \"num_unique_values\": 10,\n        \"samples\": [\n          6\n        ],\n        \"semantic_type\": \"\",\n        \"description\": \"\"\n      }\n    },\n    {\n      \"column\": \"\\u041a\\u043e\\u043b\\u0438\\u0447\\u0435\\u0441\\u0442\\u0432\\u043e \\u0443\\u043a\\u0430\\u0437\\u0430\\u043d\\u043d\\u043e\\u0439 \\u0438\\u043d\\u0444\\u0440\\u0430\\u0441\\u0442\\u0440\\u0443\\u043a\\u0442\\u0443\\u0440\\u044b\",\n      \"properties\": {\n        \"dtype\": \"number\",\n        \"std\": 3,\n        \"min\": 1,\n        \"max\": 16,\n        \"num_unique_values\": 16,\n        \"samples\": [\n          2\n        ],\n        \"semantic_type\": \"\",\n        \"description\": \"\"\n      }\n    },\n    {\n      \"column\": \"\\u0421\\u0441\\u044b\\u043b\\u043a\\u0430\",\n      \"properties\": {\n        \"dtype\": \"string\",\n        \"num_unique_values\": 9891,\n        \"samples\": [\n          \"https://domclick.ru/card/sale__flat__1872239742\"\n        ],\n        \"semantic_type\": \"\",\n        \"description\": \"\"\n      }\n    }\n  ]\n}"
            }
          },
          "metadata": {},
          "execution_count": 18
        }
      ],
      "source": [
        "print(ds2.shape)\n",
        "ds2.head(3)"
      ]
    },
    {
      "cell_type": "markdown",
      "id": "c6d49875",
      "metadata": {
        "id": "c6d49875"
      },
      "source": [
        "### ds3"
      ]
    },
    {
      "cell_type": "code",
      "execution_count": 19,
      "id": "5005720f",
      "metadata": {
        "id": "5005720f"
      },
      "outputs": [],
      "source": [
        "columns = ['Цена', 'Адрес', 'Комнат', 'Площадь', 'Жилая', 'Кухня',\n",
        "           'Этаж', 'Год постройки', 'Материал стен', 'Серия дома', 'Количество этажей',\n",
        "           'Лифт', 'Тип перекрытий', 'Ремонт', 'Тип сделки', 'Количество информации в объявлении',\n",
        "           'Ссылка']\n",
        "\n",
        "ds3 = ds3[columns]"
      ]
    },
    {
      "cell_type": "code",
      "execution_count": 20,
      "id": "b1c961e8",
      "metadata": {
        "colab": {
          "base_uri": "https://localhost:8080/"
        },
        "id": "b1c961e8",
        "outputId": "c6f0400c-c28b-4f7e-91bd-ae9f1b951806"
      },
      "outputs": [
        {
          "output_type": "stream",
          "name": "stdout",
          "text": [
            "(6375, 17)\n"
          ]
        }
      ],
      "source": [
        "print(ds3.shape)\n"
      ]
    },
    {
      "cell_type": "markdown",
      "id": "2de89538",
      "metadata": {
        "id": "2de89538"
      },
      "source": [
        "### ds4"
      ]
    },
    {
      "cell_type": "code",
      "execution_count": 21,
      "id": "a7063fd3",
      "metadata": {
        "id": "a7063fd3"
      },
      "outputs": [],
      "source": [
        "columns = ['Цена', 'Метро', 'Метро время', 'Регион', 'Город', 'Городской округ', 'Улица',\n",
        "           'Номер дома', 'Число комнат', 'Площадь общая', 'Площадь жилая', 'Площадь кухни', 'Этаж', 'Тип договора',\n",
        "           'Отделка', 'Тип квартиры', 'Номер на этаже', 'Тип помещения', 'Ссылка']\n",
        "\n",
        "ds4 = ds4[columns]"
      ]
    },
    {
      "cell_type": "code",
      "execution_count": 23,
      "id": "9ddc184b",
      "metadata": {
        "colab": {
          "base_uri": "https://localhost:8080/"
        },
        "id": "9ddc184b",
        "outputId": "56a043d1-cfa3-40ac-cff9-bd1346cbc62c"
      },
      "outputs": [
        {
          "output_type": "stream",
          "name": "stdout",
          "text": [
            "(9885, 19)\n"
          ]
        }
      ],
      "source": [
        "print(ds4.shape)"
      ]
    },
    {
      "cell_type": "markdown",
      "id": "bd3a11e7",
      "metadata": {
        "id": "bd3a11e7"
      },
      "source": [
        "### secondary"
      ]
    },
    {
      "cell_type": "code",
      "execution_count": 24,
      "id": "df8314bd",
      "metadata": {
        "id": "df8314bd"
      },
      "outputs": [],
      "source": [
        "columns =   ['Цена', 'Тип квартиры', 'Адрес', 'Регион', 'Город',\n",
        "             'Район', 'Уникальный номер адреса', 'Уникальный номер корпуса', 'Число комнат', 'Площадь общая',\n",
        "             'Площадь жидая', 'Площадь кухни', 'Тип дома', 'Тип стен дома', 'Этаж', 'Номер этажа',\n",
        "             'Плащадь квартир', 'Всего этажей', 'Год постройки', 'Тип договора', 'Тип ремонта', 'Ссылка']\n",
        "\n",
        "ds5 = ds5[columns]"
      ]
    },
    {
      "cell_type": "code",
      "execution_count": 25,
      "id": "99961132",
      "metadata": {
        "colab": {
          "base_uri": "https://localhost:8080/"
        },
        "id": "99961132",
        "outputId": "84be2953-a8a5-40d1-f685-4792ab506926"
      },
      "outputs": [
        {
          "output_type": "stream",
          "name": "stdout",
          "text": [
            "(4062, 22)\n"
          ]
        }
      ],
      "source": [
        "print(ds5.shape)"
      ]
    },
    {
      "cell_type": "markdown",
      "id": "c8301bcb",
      "metadata": {
        "id": "c8301bcb"
      },
      "source": [
        "# Функция объединения"
      ]
    },
    {
      "cell_type": "code",
      "execution_count": 26,
      "id": "fd1ae55d",
      "metadata": {
        "id": "fd1ae55d"
      },
      "outputs": [],
      "source": [
        "def inner_data(ds1,ds2,ds3,ds4,ds5):\n",
        "\n",
        "    # Объединяем cian и d_mos\n",
        "\n",
        "    ds1.columns = ['Цена',\n",
        "                'Станция метро',\n",
        "                'Минут до метро',\n",
        "                'Адрес',\n",
        "                'Количество комнат',\n",
        "                'Площадь',\n",
        "                'Жилая площадь',\n",
        "                'Кухня площадь',\n",
        "                'Этаж',\n",
        "                'Тип сделки',\n",
        "                'Материал стен',\n",
        "                'Количество этажей',\n",
        "                'Лифт',\n",
        "                'Ремонт',\n",
        "                'Парковка',\n",
        "                'Окна',\n",
        "                'Санузел',\n",
        "                'Высота потолков',\n",
        "                'Ссылка']\n",
        "    ds2.columns = ['Цена',\n",
        "                     'Станция метро',\n",
        "                     'Минут до метро',\n",
        "                     'Адрес',\n",
        "                     'Количество комнат',\n",
        "                     'Площадь',\n",
        "                     'Жилая площадь',\n",
        "                     'Кухня площадь',\n",
        "                     'Этаж',\n",
        "                     'Тип сделки',\n",
        "                     'Год постройки',\n",
        "                     'Материал стен',\n",
        "                     'Серия дома',\n",
        "                     'Количество этажей',\n",
        "                     'Лифт',\n",
        "                     'Тип перекрытий',\n",
        "                     'Ремонт',\n",
        "                     'Количество информации в объявлении',\n",
        "                     'Количество указанной инфраструктуры',\n",
        "                     'Ссылка']\n",
        "    ds1['Станция метро'] = ds1[ds1['Станция метро'].notna()]['Станция метро'].apply(lambda x: x.replace('м.', ''))\n",
        "    # Оставляем только станцию и кратчайший путь\n",
        "\n",
        "    ds2['Станция метро'] = ds2[ds2['Станция метро'].notna()]['Станция метро'].apply(lambda x: str(x).split(',')[0])\n",
        "    ds2['Минут до метро'] = ds2[ds2['Минут до метро'].notna()]['Минут до метро'].apply(lambda x: str(x).split(',')[0])\n",
        "    ds2['Минут до метро'] = ds2[ds2['Минут до метро'].notna()]['Минут до метро'].apply(lambda x: str(x)\\\n",
        "                                                                                         .replace('часа','')\\\n",
        "                                                                                         .replace('час',''))\n",
        "    # Меняем тип данных\n",
        "    ds2['Минут до метро'] = ds2['Минут до метро'].astype('float')\n",
        "\n",
        "    # Объединяем\n",
        "    df = pd.concat([ds1, ds2])\n",
        "\n",
        "    # d_obl\n",
        "    ds3.columns = ['Цена',\n",
        "                 'Адрес',\n",
        "                 'Количество комнат',\n",
        "                 'Площадь',\n",
        "                 'Жилая площадь',\n",
        "                 'Кухня площадь',\n",
        "                 'Этаж',\n",
        "                 'Тип сделки',\n",
        "                 'Год постройки',\n",
        "                 'Материал стен',\n",
        "                 'Серия дома',\n",
        "                 'Количество этажей',\n",
        "                 'Лифт',\n",
        "                 'Тип перекрытий',\n",
        "                 'Ремонт',\n",
        "                 'Количество информации в объявлении',\n",
        "                 'Ссылка']\n",
        "    df = pd.concat([df, ds3])\n",
        "\n",
        "    # price_cian\n",
        "    ds4.drop('Городской округ', axis = 1, inplace = True)\n",
        "\n",
        "    # Создаем столбец Адрес\n",
        "    columns = ['Город', 'Улица']\n",
        "\n",
        "    for i in columns:\n",
        "        ds4[i] = ds4[i].fillna('нет')\n",
        "\n",
        "    ds4['Номер дома'] = ds4['Номер дома'].fillna('.')\n",
        "    adres = ds4['Регион'] + [', '] + ds4['Город']+ [', '] + ds4['Улица']+ [', '] + ds4['Номер дома']\n",
        "    ds4.insert(3, 'Адрес', adres)\n",
        "\n",
        "    ds4.drop(['Регион', 'Город', 'Улица', 'Номер дома'], axis = 1, inplace = True)\n",
        "    ds4['Адрес'] = ds4['Адрес'].apply(lambda x: x.replace('нет','').replace(', .',''))\n",
        "\n",
        "    ds4.columns =['Цена',\n",
        "                     'Станция метро',\n",
        "                     'Минут до метро',\n",
        "                     'Адрес',\n",
        "                     'Количество комнат',\n",
        "                     'Площадь',\n",
        "                     'Жилая площадь',\n",
        "                     'Кухня площадь',\n",
        "                     'Этаж',\n",
        "                     'Тип сделки',\n",
        "                     'Отделка',\n",
        "                     'Тип квартиры',\n",
        "                     'Номер на этаже',\n",
        "                     'Тип помещения',\n",
        "                     'Ссылка']\n",
        "    df = pd.concat([df, ds4])\n",
        "\n",
        "    # secondary\n",
        "    ds5.drop(['Регион', 'Город', 'Район','Уникальный номер адреса', 'Уникальный номер корпуса'], axis = 1, inplace = True)\n",
        "    ds5.drop(['Тип дома', 'Тип стен дома', 'Этаж','Год постройки'], axis = 1, inplace = True)\n",
        "\n",
        "    ds5.columns = ['Цена',\n",
        "                     'Тип квартиры',\n",
        "                     'Адрес',\n",
        "                     'Количество комнат',\n",
        "                     'Площадь',\n",
        "                     'Жилая площадь',\n",
        "                     'Кухня площадь',\n",
        "                     'Номер на этаже',\n",
        "                     'Площадь квартир',\n",
        "                     'Количество этажей',\n",
        "                     'Тип договора',\n",
        "                     'Ремонт',\n",
        "                     'Ссылка']\n",
        "    df = pd.concat([df, ds5])\n",
        "\n",
        "    df['Тип квартиры'] = df['Тип квартиры'].fillna('Вторичное')\n",
        "    return df"
      ]
    },
    {
      "cell_type": "code",
      "execution_count": 28,
      "id": "282f23c9",
      "metadata": {
        "colab": {
          "base_uri": "https://localhost:8080/"
        },
        "id": "282f23c9",
        "outputId": "00aabfab-d26c-43c7-d355-234745fe8a23"
      },
      "outputs": [
        {
          "output_type": "stream",
          "name": "stdout",
          "text": [
            "(34775, 30)\n"
          ]
        }
      ],
      "source": [
        "ds1['Станция метро'] = ds1['Станция метро'].astype(str)\n",
        "ds1['Станция метро'] = ds1[ds1['Станция метро'] != 'nan']['Станция метро'].apply(lambda x: x.replace('м.', ''))\n",
        "df = inner_data(ds1,ds2,ds3,ds4,ds5)\n",
        "print(df.shape)\n"
      ]
    },
    {
      "cell_type": "code",
      "execution_count": 29,
      "id": "df566638",
      "metadata": {
        "id": "df566638"
      },
      "outputs": [],
      "source": [
        "data = round((df.isna().sum() / df.shape[0]) * 100, 2).to_frame()\n",
        "data.columns = ['NaN%']\n",
        "columns = list(data[data['NaN%'] < 55].index)\n",
        "\n",
        "df = df[columns]"
      ]
    },
    {
      "cell_type": "code",
      "execution_count": 30,
      "id": "ef0129e7",
      "metadata": {
        "colab": {
          "base_uri": "https://localhost:8080/"
        },
        "id": "ef0129e7",
        "outputId": "b7443f92-40f7-41a2-f971-28358d9ad3ce"
      },
      "outputs": [
        {
          "output_type": "stream",
          "name": "stdout",
          "text": [
            "(34775, 18)\n"
          ]
        }
      ],
      "source": [
        "print(df.shape)\n"
      ]
    },
    {
      "cell_type": "markdown",
      "id": "3cee6f72",
      "metadata": {
        "id": "3cee6f72"
      },
      "source": [
        "# Сохраняем набор данных"
      ]
    },
    {
      "cell_type": "code",
      "execution_count": 31,
      "id": "8be02253",
      "metadata": {
        "id": "8be02253"
      },
      "outputs": [],
      "source": [
        "df.to_csv('ds_unity', index = False)"
      ]
    }
  ],
  "metadata": {
    "kernelspec": {
      "display_name": "Python 3 (ipykernel)",
      "language": "python",
      "name": "python3"
    },
    "language_info": {
      "codemirror_mode": {
        "name": "ipython",
        "version": 3
      },
      "file_extension": ".py",
      "mimetype": "text/x-python",
      "name": "python",
      "nbconvert_exporter": "python",
      "pygments_lexer": "ipython3",
      "version": "3.10.4"
    },
    "colab": {
      "provenance": []
    }
  },
  "nbformat": 4,
  "nbformat_minor": 5
}